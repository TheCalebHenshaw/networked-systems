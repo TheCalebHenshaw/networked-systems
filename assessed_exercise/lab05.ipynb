{
 "cells": [
  {
   "cell_type": "code",
   "execution_count": null,
   "metadata": {},
   "outputs": [],
   "source": [
    "import matplotlib\n",
    "\n",
    "client_ip = \"192.168.0.66\"\n",
    "\n",
    "with open(\"packets.dat\", \"r\") as infile, open(\"server_to_client.dat\", \"w\") as outfile:\n",
    "    for line in infile:\n",
    "        # Split the line into tokens\n",
    "        tokens = line.split()\n",
    "        # Check that we have enough tokens to process (avoid blank or malformed lines)\n",
    "        if len(tokens) < 3:\n",
    "            continue\n",
    "        # tokens[2] is the source field (e.g., \"192.168.0.66.56735\" or \"yali.mythic-beasts.com.http\")\n",
    "        if not tokens[2].startswith(client_ip):\n",
    "            outfile.write(line)\n"
   ]
  }
 ],
 "metadata": {
  "kernelspec": {
   "display_name": "base",
   "language": "python",
   "name": "python3"
  },
  "language_info": {
   "name": "python",
   "version": "3.11.7"
  }
 },
 "nbformat": 4,
 "nbformat_minor": 2
}
